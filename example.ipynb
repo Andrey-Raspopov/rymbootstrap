{
 "cells": [
  {
   "cell_type": "code",
   "execution_count": 1,
   "id": "ae0080d4-c6ee-4c30-b2d0-d474e82db196",
   "metadata": {},
   "outputs": [
    {
     "name": "stdout",
     "output_type": "stream",
     "text": [
      "{'Name': 'Daft Punk', 'Formed': '1993, Paris, Île-de-France, France', 'Disbanded': '22 February 2021', 'Members': 'Thomas Bangalter (programming, synthesizer, keyboards, drum machine, guitar, bass, vocals, vocoder, talk box), Guy-Manuel de Homem-Christo (programming, synthesizer, keyboards, drums, drum machine, guitar)', 'Related Artists': \"Darlin'\", 'Also Known As': 'Draft Ponk', 'Genres': 'French House, Electronic, French Electro, Disco, Film Score, Electroclash'}\n",
      "___\n"
     ]
    }
   ],
   "source": [
    "from rymscraper import rymscraper, RymUrl\n",
    "network = rymscraper.RymNetwork()\n",
    "artist_infos = network.get_artist_infos(name=\"Daft Punk\")\n",
    "import json\n",
    "json.dumps(artist_infos, indent=, ensure_ascii=False)"
   ]
  },
  {
   "cell_type": "code",
   "execution_count": null,
   "id": "2bcc5204-07fb-46f8-b7a7-d3fdaf086a41",
   "metadata": {},
   "outputs": [],
   "source": []
  }
 ],
 "metadata": {
  "kernelspec": {
   "display_name": "Python 3 (ipykernel)",
   "language": "python",
   "name": "python3"
  },
  "language_info": {
   "codemirror_mode": {
    "name": "ipython",
    "version": 3
   },
   "file_extension": ".py",
   "mimetype": "text/x-python",
   "name": "python",
   "nbconvert_exporter": "python",
   "pygments_lexer": "ipython3",
   "version": "3.11.3"
  }
 },
 "nbformat": 4,
 "nbformat_minor": 5
}
